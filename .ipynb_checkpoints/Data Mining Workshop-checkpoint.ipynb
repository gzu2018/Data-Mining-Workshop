{
 "cells": [
  {
   "cell_type": "markdown",
   "metadata": {},
   "source": [
    "# Getting Started With Data Mining\n",
    "\n",
    "This document contains information you will need for the workshop. Please make sure to read the entire document. Any questions may be directed towards the ACM discord @ https://discord.gg/y64rhyXka3 in the #data-mining-workshop channel.\n",
    "\n",
    "## Installing Python 3\n",
    "1. Navigate to https://www.python.org/downloads/\n",
    "2. Scroll down under the 'Looking for a specific release?' section & click download next to Python 3.8.5\n",
    "3. Scroll all the way down and download the 'Windows x86-64 executable installer' for Windows 64-bit or 'macOS 64-bit installer' for MacOS 64 bit.\n",
    "4. Open the installer and follow the prompts\n",
    "    - **Make sure to check the box 'Add Python 3.8 to PATH'**\n",
    "5. Open up the terminal and type in 'python --version', the console should respond with Python 3.8.5\n",
    "\n",
    "## Getting Started With Python 3\n",
    "Python is an interpreted language-- meaning that source code is compiled into bytecode and executed by the OS. \n",
    "\n",
    "Python is dynamically typed, meaning that you should not declare the type of a variable when assigning a value to it.\n",
    "\n",
    "Python uses indents (and not {}) to identify code blocks. The end of one line marks the end of a statement, we do not need to use a semicolon to end a statement.\n",
    "\n",
    "### Variables\n",
    "Variables in python can be visualized as pointers to memory locations. The type of a variable is determined by the contents of the variable. Booleans are declared with True or False\n",
    "\n",
    "We can use the print() function to output the contents of a variable to the console.\n",
    "\n",
    "Try practing @ https://www.learnpython.org/en/Variables_and_Types"
   ]
  },
  {
   "cell_type": "code",
   "execution_count": 6,
   "metadata": {},
   "outputs": [
    {
     "name": "stdout",
     "output_type": "stream",
     "text": [
      "10\n",
      "True\n"
     ]
    }
   ],
   "source": [
    "name = 10\n",
    "boolean = True\n",
    "print(name)\n",
    "print(boolean)"
   ]
  },
  {
   "cell_type": "code",
   "execution_count": 7,
   "metadata": {},
   "outputs": [
    {
     "name": "stdout",
     "output_type": "stream",
     "text": [
      "HackUTD\n"
     ]
    }
   ],
   "source": [
    "name = \"HackUTD\"\n",
    "print(name)"
   ]
  },
  {
   "cell_type": "markdown",
   "metadata": {},
   "source": [
    "We can do some pretty cool stuff with ints and strings"
   ]
  },
  {
   "cell_type": "code",
   "execution_count": 8,
   "metadata": {},
   "outputs": [
    {
     "name": "stdout",
     "output_type": "stream",
     "text": [
      "10\n",
      "11\n"
     ]
    }
   ],
   "source": [
    "a = 10\n",
    "print(a)\n",
    "a += 1 # we cannot do ++ or -- in python\n",
    "print(a)"
   ]
  },
  {
   "cell_type": "code",
   "execution_count": 9,
   "metadata": {},
   "outputs": [
    {
     "name": "stdout",
     "output_type": "stream",
     "text": [
      "HackUTD Workshop!\n"
     ]
    }
   ],
   "source": [
    "b = 'HackUTD'\n",
    "b += ' Workshop!'\n",
    "print(b)"
   ]
  },
  {
   "cell_type": "markdown",
   "metadata": {},
   "source": [
    "You can gather input from a user using the input() function"
   ]
  },
  {
   "cell_type": "code",
   "execution_count": 10,
   "metadata": {},
   "outputs": [
    {
     "name": "stdout",
     "output_type": "stream",
     "text": [
      "What is your name?\n",
      "Jake\n",
      "Hi there, Jake\n"
     ]
    }
   ],
   "source": [
    "print(\"What is your name?\")\n",
    "inputVal = input()\n",
    "print(\"Hi there, \" + inputVal)"
   ]
  },
  {
   "cell_type": "markdown",
   "metadata": {},
   "source": [
    "### Control Structures\n",
    "There are several control structures in Python:\n",
    "- if\n",
    "- if else\n",
    "- if elif else\n",
    "- while\n",
    "- for\n",
    "- functions\n",
    "\n",
    "Notice how there is no switch statement in python.\n",
    "\n",
    "\n",
    "Python relational & boolean operators:\n",
    "- == and !=\n",
    "- < <= > >=\n",
    "- and or not"
   ]
  },
  {
   "cell_type": "code",
   "execution_count": 11,
   "metadata": {},
   "outputs": [
    {
     "name": "stdout",
     "output_type": "stream",
     "text": [
      "True\n"
     ]
    }
   ],
   "source": [
    "a = 10\n",
    "\n",
    "if a == 10:\n",
    "    print(\"True\")"
   ]
  },
  {
   "cell_type": "markdown",
   "metadata": {},
   "source": [
    "Notice how the indents were used to signify code blocks, how parenthesis were not required around the condition, and the : after the if statement.\n",
    "\n",
    "Here is another example using the if/else statement"
   ]
  },
  {
   "cell_type": "code",
   "execution_count": 12,
   "metadata": {},
   "outputs": [
    {
     "name": "stdout",
     "output_type": "stream",
     "text": [
      "A is not equal to B\n"
     ]
    }
   ],
   "source": [
    "a = 10\n",
    "b = 20\n",
    "\n",
    "if a == b:\n",
    "    print(\"A is equal to B\")\n",
    "else:\n",
    "    print(\"A is not equal to B\")"
   ]
  },
  {
   "cell_type": "markdown",
   "metadata": {},
   "source": [
    "Here is an example using the if/elif/else statement"
   ]
  },
  {
   "cell_type": "code",
   "execution_count": 13,
   "metadata": {},
   "outputs": [
    {
     "name": "stdout",
     "output_type": "stream",
     "text": [
      "A is less than B\n"
     ]
    }
   ],
   "source": [
    "if a == b:\n",
    "    print(\"A is equal to B\")\n",
    "elif a < b:\n",
    "    print(\"A is less than B\")\n",
    "else:\n",
    "    print(\"A is greater than B\")"
   ]
  },
  {
   "cell_type": "markdown",
   "metadata": {},
   "source": [
    "While statement example"
   ]
  },
  {
   "cell_type": "code",
   "execution_count": 14,
   "metadata": {},
   "outputs": [
    {
     "name": "stdout",
     "output_type": "stream",
     "text": [
      "0\n",
      "1\n",
      "2\n",
      "3\n",
      "4\n",
      "5\n",
      "6\n",
      "7\n",
      "8\n",
      "9\n"
     ]
    }
   ],
   "source": [
    "i = 0\n",
    "\n",
    "while i < 10:\n",
    "    print(i)\n",
    "    i += 1"
   ]
  },
  {
   "cell_type": "markdown",
   "metadata": {},
   "source": [
    "**Functions** can be declared as:\n",
    "\n",
    "def f_name(parameters): statement(s) return expression(s) or just return\n",
    "\n",
    "and called by name:\n",
    "\n",
    "f_name(parameters)"
   ]
  },
  {
   "cell_type": "code",
   "execution_count": 15,
   "metadata": {},
   "outputs": [
    {
     "name": "stdout",
     "output_type": "stream",
     "text": [
      "My name is Kevin\n"
     ]
    }
   ],
   "source": [
    "def printName(name):\n",
    "    print(\"My name is \" + name)\n",
    "\n",
    "printName(\"Kevin\")"
   ]
  },
  {
   "cell_type": "markdown",
   "metadata": {},
   "source": [
    "Get some practice in @ https://www.learnpython.org/en/Conditions & https://www.learnpython.org/en/Loops"
   ]
  },
  {
   "cell_type": "markdown",
   "metadata": {},
   "source": [
    "### Lists\n",
    "A list is an ordered collection of objects. Any object can be held inside of a list. Each item in the list does not need to be the same type.\n",
    "\n",
    "Lists are declaired in square brackets []"
   ]
  },
  {
   "cell_type": "code",
   "execution_count": 16,
   "metadata": {},
   "outputs": [
    {
     "name": "stdout",
     "output_type": "stream",
     "text": [
      "['a', 'b', 'c']\n",
      "a\n"
     ]
    }
   ],
   "source": [
    "l = []\n",
    "l.append('a') # adding to a list\n",
    "l.append('b')\n",
    "l.append('c')\n",
    "print(l)\n",
    "\n",
    "print(l[0]) # accessing an item in a list"
   ]
  },
  {
   "cell_type": "markdown",
   "metadata": {},
   "source": [
    "You can find more information over lists @ https://github.com/kjmazidi/Python_for_AI/blob/master/1-Python_Basics/05%20-%20Lists.ipynb"
   ]
  },
  {
   "cell_type": "markdown",
   "metadata": {},
   "source": [
    "### Dicts\n",
    "\n",
    "Dictionaries in python are implemented under a hash table with keys that map to values"
   ]
  },
  {
   "cell_type": "code",
   "execution_count": 17,
   "metadata": {},
   "outputs": [
    {
     "name": "stdout",
     "output_type": "stream",
     "text": [
      "Kat\n"
     ]
    }
   ],
   "source": [
    "dictVar = {} # declaring a dict\n",
    "dictVar['1'] = \"Adam\" # assign a value with varName[key] = value\n",
    "dictVar['2'] = \"John\"\n",
    "dictVar['10'] = \"Kat\"\n",
    "\n",
    "print(dictVar['10'])"
   ]
  },
  {
   "cell_type": "markdown",
   "metadata": {},
   "source": [
    "You can find more information @ https://github.com/kjmazidi/Python_for_AI/blob/master/1-Python_Basics/07%20-%20Dicts.ipynb"
   ]
  },
  {
   "cell_type": "markdown",
   "metadata": {},
   "source": [
    "## Installing Packages"
   ]
  },
  {
   "cell_type": "markdown",
   "metadata": {},
   "source": [
    "Python comes with a default package installer.\n",
    "\n",
    "The basic way to install packages is to launch your **terminal** and type in:\n",
    "\n",
    "'python -m pip install SomePackage'\n",
    "\n",
    "In this workshop, we will be using two Python packages: Scrapy & Seaborn\n",
    "\n",
    "Install Scrapy by typing in terminal:\n",
    "\n",
    "**'python -m pip install scrapy'**\n",
    "\n",
    "Install Seaborne by typing in terminal:\n",
    "\n",
    "**'python -m pip install seaborn'**"
   ]
  },
  {
   "cell_type": "code",
   "execution_count": null,
   "metadata": {},
   "outputs": [],
   "source": []
  }
 ],
 "metadata": {
  "kernelspec": {
   "display_name": "Python 3",
   "language": "python",
   "name": "python3"
  },
  "language_info": {
   "codemirror_mode": {
    "name": "ipython",
    "version": 3
   },
   "file_extension": ".py",
   "mimetype": "text/x-python",
   "name": "python",
   "nbconvert_exporter": "python",
   "pygments_lexer": "ipython3",
   "version": "3.8.5"
  }
 },
 "nbformat": 4,
 "nbformat_minor": 4
}
